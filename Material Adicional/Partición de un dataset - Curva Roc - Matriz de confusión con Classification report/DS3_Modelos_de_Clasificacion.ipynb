{
  "nbformat": 4,
  "nbformat_minor": 0,
  "metadata": {
    "kernelspec": {
      "display_name": "Python 3",
      "language": "python",
      "name": "python3"
    },
    "language_info": {
      "codemirror_mode": {
        "name": "ipython",
        "version": 3
      },
      "file_extension": ".py",
      "mimetype": "text/x-python",
      "name": "python",
      "nbconvert_exporter": "python",
      "pygments_lexer": "ipython3",
      "version": "3.7.5"
    },
    "colab": {
      "name": "DS3_Modelos_de_Clasificacion.ipynb",
      "provenance": [],
      "collapsed_sections": []
    }
  },
  "cells": [
    {
      "cell_type": "markdown",
      "metadata": {
        "id": "gntRVr93v5bS"
      },
      "source": [
        "# Bienvenido a tu primer competencia de ciencia de datos!!!\n",
        "\n",
        "En este notebook desarrollaremos el problema del Titanic. Este dataset es el más popular entre todos los que quieren iniciar en este mundo de la Ciencia de Datos. Buscamos predecir si un pasajero, con ciertas caractéristicas, sobrevivió o no a esta tragedia ocurrida en el siglo 20.\n",
        "\n",
        "\n",
        "![](https://storage.googleapis.com/kaggle-competitions/kaggle/3136/logos/header.png)"
      ]
    },
    {
      "cell_type": "markdown",
      "metadata": {
        "id": "63BgzqwPv5bc"
      },
      "source": [
        "En este caso, tenemos dos tablas de datos: train y summit (test.csv). Ahora, esta data ha sido sacada de una **competencia de Kaggle** Por eso, la data que nombraremos como **summit contendrá la base para poder aplicar nuestro modelo ya completado**. El mismo Kaggle se encargará de saber si es un buen modelo o no. Posteriormente, esta tabla nombrada **train nos servirá tanto para entrenar como para testear nuestrso modelos**.\n",
        "El link de la competencia es: https://www.kaggle.com/c/titanic"
      ]
    },
    {
      "cell_type": "code",
      "metadata": {
        "id": "m6OYvTBFv5bX"
      },
      "source": [
        "\"CELDA N°01\"\n",
        "import pandas as pd\n",
        "import numpy as np\n",
        "import matplotlib.pyplot as plt\n",
        "\n",
        "#Usualmente salen advertencias de actualizaciones pasadas de las librerías, las ignoramos por ahora...\n",
        "import warnings\n",
        "warnings.filterwarnings('ignore')"
      ],
      "execution_count": null,
      "outputs": []
    },
    {
      "cell_type": "code",
      "metadata": {
        "id": "yIplEOHeWHYa"
      },
      "source": [
        "\"CELDA N°02\"\n",
        "#Importamos dos dataset para esta competencia el train y summit\n",
        "train = pd.read_csv('https://raw.githubusercontent.com/HackSpacePeru/Datasets_intro_Data_Science/master/Titanic/train_preproc_titanic.csv')\n",
        "summit = pd.read_csv('https://raw.githubusercontent.com/HackSpacePeru/Datasets_intro_Data_Science/master/Titanic/summit_preproc_titanic.csv')"
      ],
      "execution_count": null,
      "outputs": []
    },
    {
      "cell_type": "markdown",
      "metadata": {
        "id": "5cnjyT6XEcdP"
      },
      "source": [
        "En cada **competencia** de Ciencia de Datos se presenta al concursante un conjunto de datos **sin target** exclusivamente con el objetivo de completar este dato faltante. Por lo tanto este conjunto de datos denominado **summit** no se utiliza en el entrenamiento."
      ]
    },
    {
      "cell_type": "markdown",
      "metadata": {
        "id": "OeRX0HFg0dNx"
      },
      "source": [
        "##**Partición de la data para entrenamiento**"
      ]
    },
    {
      "cell_type": "code",
      "metadata": {
        "id": "_ImtWm5ELlIG"
      },
      "source": [
        "\"CELDA N°03\"\n",
        "#Denominamos a las variables predictoras X mientras que el target se denomina Y\n",
        "X = train.drop('Sobrevivio',axis=1)\n",
        "y = train['Sobrevivio']"
      ],
      "execution_count": null,
      "outputs": []
    },
    {
      "cell_type": "code",
      "metadata": {
        "id": "W076YUJhMR_v"
      },
      "source": [
        "\"CELDA N°04\"\n",
        "#Realizamos la división de ambas variables\n",
        "from sklearn.model_selection import train_test_split\n",
        "X_train, X_test, y_train, y_test= train_test_split(X,y,test_size = 0.15,random_state=1) #Separa el 15% de la data para generar las predicciones"
      ],
      "execution_count": null,
      "outputs": []
    },
    {
      "cell_type": "code",
      "metadata": {
        "id": "5QsCbDrtOGjO",
        "colab": {
          "base_uri": "https://localhost:8080/"
        },
        "outputId": "b1998948-64f4-4292-e32c-2a8137443e86"
      },
      "source": [
        "\"CELDA N°05\"\n",
        "#Mostramos con el parámetro shape la cantidad de filas que resultaron en cada parte\n",
        "print('Para el X_train:', X_train.shape, 'y para el y_train',y_train.shape)\n",
        "print('Para el X_test:',X_test.shape,'y para el y_test',y_test.shape)"
      ],
      "execution_count": null,
      "outputs": [
        {
          "output_type": "stream",
          "name": "stdout",
          "text": [
            "Para el X_train: (757, 7) y para el y_train (757,)\n",
            "Para el X_test: (134, 7) y para el y_test (134,)\n"
          ]
        }
      ]
    },
    {
      "cell_type": "markdown",
      "metadata": {
        "id": "t2JdTlTL00H1"
      },
      "source": [
        "##**Modelo de Regresión Logística**"
      ]
    },
    {
      "cell_type": "code",
      "metadata": {
        "id": "1R0tp9tiOmvd",
        "colab": {
          "base_uri": "https://localhost:8080/"
        },
        "outputId": "087a9744-b72f-444f-aad9-942c19fa9de5"
      },
      "source": [
        "\"CELDA N°06\"\n",
        "from sklearn.linear_model import LogisticRegression #Importamos la librería para aplicar Regresión Logística\n",
        "rl = LogisticRegression(random_state=1) #creamos la variable rl para guardar el modelo con los parámetros deseados\n",
        "rl.fit(X_train, y_train) #entrenamos con datos guardados en X_train, y_train\n",
        "rl_pred = rl.predict(X_test) #generamos las predicciones usando como variables predictoras los datos en X_test\n",
        "rl_pred #mostramos las predicciones guardadas en la variable rl_pred"
      ],
      "execution_count": null,
      "outputs": [
        {
          "output_type": "execute_result",
          "data": {
            "text/plain": [
              "array([1, 0, 1, 1, 1, 0, 0, 1, 1, 1, 0, 1, 0, 0, 1, 0, 0, 0, 0, 1, 0, 0,\n",
              "       1, 0, 0, 0, 1, 1, 0, 1, 1, 0, 0, 1, 0, 0, 0, 0, 1, 0, 1, 1, 1, 0,\n",
              "       1, 0, 0, 0, 0, 0, 0, 1, 0, 0, 0, 1, 0, 0, 0, 1, 0, 0, 0, 0, 0, 1,\n",
              "       0, 0, 0, 0, 0, 0, 0, 0, 1, 0, 1, 0, 0, 1, 0, 0, 0, 0, 1, 0, 0, 0,\n",
              "       0, 1, 0, 0, 0, 1, 0, 0, 0, 1, 0, 0, 0, 0, 0, 1, 1, 0, 0, 0, 0, 0,\n",
              "       1, 0, 0, 0, 0, 0, 0, 0, 1, 1, 1, 0, 0, 0, 1, 1, 1, 1, 0, 0, 0, 0,\n",
              "       0, 0])"
            ]
          },
          "metadata": {},
          "execution_count": 6
        }
      ]
    },
    {
      "cell_type": "markdown",
      "metadata": {
        "id": "ldtArvZfLZpR"
      },
      "source": [
        "###*Probabilidades de la predicción sobre el target*"
      ]
    },
    {
      "cell_type": "code",
      "metadata": {
        "id": "7re1K3aLRw8I",
        "colab": {
          "base_uri": "https://localhost:8080/"
        },
        "outputId": "7106ec92-7c75-473f-879e-f81c7909e2c8"
      },
      "source": [
        "\"CELDA N°07\"\n",
        "#Calculamos la probabilidades de obtener 1 con el método predict_proba\n",
        "rl_prob = rl.predict_proba(X_test)[:, 1]\n",
        "rl_prob"
      ],
      "execution_count": null,
      "outputs": [
        {
          "output_type": "execute_result",
          "data": {
            "text/plain": [
              "array([0.91729564, 0.08136309, 0.82118345, 0.72672992, 0.52482667,\n",
              "       0.0826539 , 0.19232699, 0.94525274, 0.50460252, 0.8027339 ,\n",
              "       0.08242648, 0.64878952, 0.34971917, 0.18026305, 0.72616848,\n",
              "       0.35364663, 0.1343863 , 0.12153028, 0.0818032 , 0.63221405,\n",
              "       0.08202955, 0.14262996, 0.93165645, 0.18318907, 0.43221445,\n",
              "       0.08231814, 0.88020459, 0.8184411 , 0.18143172, 0.91935382,\n",
              "       0.64952848, 0.35250892, 0.32647374, 0.73977099, 0.11411516,\n",
              "       0.09878873, 0.35226765, 0.08292933, 0.50455385, 0.08271092,\n",
              "       0.6486182 , 0.66629049, 0.92326366, 0.35068598, 0.57222651,\n",
              "       0.08185386, 0.07136162, 0.18001865, 0.39785405, 0.18255087,\n",
              "       0.21118137, 0.82074147, 0.18221456, 0.18031792, 0.08221043,\n",
              "       0.74005545, 0.18109702, 0.34811681, 0.02301163, 0.64983199,\n",
              "       0.10792254, 0.09763139, 0.25429892, 0.35073088, 0.45771161,\n",
              "       0.70607247, 0.10516566, 0.09765791, 0.38939711, 0.19157263,\n",
              "       0.0887176 , 0.13416234, 0.39515416, 0.0828742 , 0.81672516,\n",
              "       0.22378208, 0.94524752, 0.11562187, 0.39191829, 0.91951427,\n",
              "       0.08270697, 0.00578822, 0.08299   , 0.08190655, 0.84634714,\n",
              "       0.08221031, 0.08167501, 0.09657323, 0.09872091, 0.77585131,\n",
              "       0.35036849, 0.09731202, 0.11529835, 0.72956275, 0.08258002,\n",
              "       0.39690319, 0.08050946, 0.69082927, 0.08276826, 0.08171603,\n",
              "       0.39651268, 0.35137531, 0.10434291, 0.77498835, 0.95476146,\n",
              "       0.08254949, 0.0822004 , 0.08219919, 0.1347748 , 0.0814703 ,\n",
              "       0.5000775 , 0.09782967, 0.17902209, 0.12136865, 0.18180098,\n",
              "       0.08197192, 0.25394795, 0.4569403 , 0.87455279, 0.64794841,\n",
              "       0.87521111, 0.36864517, 0.08253177, 0.18234027, 0.92449325,\n",
              "       0.91896237, 0.81999977, 0.64947127, 0.00579783, 0.11578422,\n",
              "       0.08248335, 0.08135281, 0.27562389, 0.39851879])"
            ]
          },
          "metadata": {},
          "execution_count": 7
        }
      ]
    },
    {
      "cell_type": "markdown",
      "metadata": {
        "id": "sVp6M5qM1QcJ"
      },
      "source": [
        "###*Coeficientes de la regresión logística*"
      ]
    },
    {
      "cell_type": "code",
      "metadata": {
        "id": "h3Jpc93IQvHa",
        "colab": {
          "base_uri": "https://localhost:8080/",
          "height": 260
        },
        "outputId": "37c4b554-df39-4d59-f775-2b0e00a4575b"
      },
      "source": [
        "\"CELDA N°08\"\n",
        "#Mostramos los coeficientes de la ecuación obtenida con la Regresión Logística\n",
        "coeficientes = pd.DataFrame({'variables':X_train.columns.values, 'betas': np.round(rl.coef_[0],4) })\n",
        "coeficientes"
      ],
      "execution_count": null,
      "outputs": [
        {
          "output_type": "execute_result",
          "data": {
            "text/html": [
              "<div>\n",
              "<style scoped>\n",
              "    .dataframe tbody tr th:only-of-type {\n",
              "        vertical-align: middle;\n",
              "    }\n",
              "\n",
              "    .dataframe tbody tr th {\n",
              "        vertical-align: top;\n",
              "    }\n",
              "\n",
              "    .dataframe thead th {\n",
              "        text-align: right;\n",
              "    }\n",
              "</style>\n",
              "<table border=\"1\" class=\"dataframe\">\n",
              "  <thead>\n",
              "    <tr style=\"text-align: right;\">\n",
              "      <th></th>\n",
              "      <th>variables</th>\n",
              "      <th>betas</th>\n",
              "    </tr>\n",
              "  </thead>\n",
              "  <tbody>\n",
              "    <tr>\n",
              "      <th>0</th>\n",
              "      <td>Pclass</td>\n",
              "      <td>-0.9037</td>\n",
              "    </tr>\n",
              "    <tr>\n",
              "      <th>1</th>\n",
              "      <td>Genero</td>\n",
              "      <td>0.7561</td>\n",
              "    </tr>\n",
              "    <tr>\n",
              "      <th>2</th>\n",
              "      <td>Edad</td>\n",
              "      <td>-0.7345</td>\n",
              "    </tr>\n",
              "    <tr>\n",
              "      <th>3</th>\n",
              "      <td>Tarifa</td>\n",
              "      <td>0.1102</td>\n",
              "    </tr>\n",
              "    <tr>\n",
              "      <th>4</th>\n",
              "      <td>P_embarque</td>\n",
              "      <td>0.0930</td>\n",
              "    </tr>\n",
              "    <tr>\n",
              "      <th>5</th>\n",
              "      <td>Miembros_de_fam</td>\n",
              "      <td>-0.3521</td>\n",
              "    </tr>\n",
              "    <tr>\n",
              "      <th>6</th>\n",
              "      <td>Viaja_solo</td>\n",
              "      <td>-0.7824</td>\n",
              "    </tr>\n",
              "  </tbody>\n",
              "</table>\n",
              "</div>"
            ],
            "text/plain": [
              "         variables   betas\n",
              "0           Pclass -0.9037\n",
              "1           Genero  0.7561\n",
              "2             Edad -0.7345\n",
              "3           Tarifa  0.1102\n",
              "4       P_embarque  0.0930\n",
              "5  Miembros_de_fam -0.3521\n",
              "6       Viaja_solo -0.7824"
            ]
          },
          "metadata": {},
          "execution_count": 8
        }
      ]
    },
    {
      "cell_type": "markdown",
      "metadata": {
        "id": "CtY4Fv051EyZ"
      },
      "source": [
        "### *Score de la Regresión Logística*"
      ]
    },
    {
      "cell_type": "code",
      "metadata": {
        "id": "-oWjADzMQKPS",
        "colab": {
          "base_uri": "https://localhost:8080/"
        },
        "outputId": "f965486b-a2ae-4865-a707-5bf33e88ae90"
      },
      "source": [
        "\"CELDA N°09\"\n",
        "#Calculamos el accuracy comparando las predicciones generadas versus y_test\n",
        "from sklearn.metrics import accuracy_score\n",
        "print('El accuracy para mi primero modelo es :{0:.2f}'.format(accuracy_score(y_test,rl_pred))) #usando la expresión regex .2f para mostrar 2 decimales"
      ],
      "execution_count": null,
      "outputs": [
        {
          "output_type": "stream",
          "name": "stdout",
          "text": [
            "El accuracy para mi primero modelo es :0.81\n"
          ]
        }
      ]
    },
    {
      "cell_type": "markdown",
      "metadata": {
        "id": "-OSVx5x83Wmo"
      },
      "source": [
        "##**Modelo de Random Forest**"
      ]
    },
    {
      "cell_type": "code",
      "metadata": {
        "id": "Jtlcj52ek1lW",
        "colab": {
          "base_uri": "https://localhost:8080/"
        },
        "outputId": "208709e3-036e-4c12-81ce-5d754f741895"
      },
      "source": [
        "\"CELDA N°10\"\n",
        "from sklearn.ensemble import RandomForestClassifier #Importamos la librería para aplicar Random Forest\n",
        "rf = RandomForestClassifier(n_jobs = -1,max_depth=3,random_state=1) #creamos la variable rf para guardar el modelo con los parámetros deseados\n",
        "rf.fit(X_train,y_train) #entrenamos con datos guardados en X_train, y_train\n",
        "rf_pred = rf.predict(X_test) #generamos las predicciones usando como variables predictoras los datos en X_test\n",
        "rf_pred #mostramos las predicciones guardadas en la variable rf_pred"
      ],
      "execution_count": null,
      "outputs": [
        {
          "output_type": "execute_result",
          "data": {
            "text/plain": [
              "array([1, 0, 1, 1, 1, 0, 0, 1, 0, 1, 0, 0, 0, 0, 0, 0, 0, 0, 0, 1, 0, 0,\n",
              "       1, 0, 1, 0, 1, 1, 0, 1, 1, 0, 0, 0, 0, 0, 0, 0, 0, 0, 0, 1, 1, 0,\n",
              "       1, 0, 0, 0, 0, 0, 0, 1, 0, 0, 0, 1, 0, 0, 0, 0, 0, 0, 0, 0, 0, 1,\n",
              "       0, 0, 1, 0, 0, 0, 0, 0, 1, 0, 1, 0, 0, 1, 0, 0, 0, 0, 1, 0, 0, 0,\n",
              "       0, 1, 0, 0, 0, 1, 0, 0, 0, 1, 0, 0, 0, 0, 0, 1, 1, 0, 0, 0, 0, 0,\n",
              "       0, 0, 0, 0, 0, 0, 0, 0, 1, 0, 1, 0, 0, 0, 1, 1, 1, 0, 0, 0, 0, 0,\n",
              "       1, 0])"
            ]
          },
          "metadata": {},
          "execution_count": 10
        }
      ]
    },
    {
      "cell_type": "markdown",
      "metadata": {
        "id": "2vHZMyJQ9gQX"
      },
      "source": [
        "###*Probabilidades de la predicción sobre el target*"
      ]
    },
    {
      "cell_type": "code",
      "metadata": {
        "id": "E_eOr-Vk9pi_",
        "colab": {
          "base_uri": "https://localhost:8080/"
        },
        "outputId": "63a6c9c7-2867-4552-ea52-1bbcd7b455ba"
      },
      "source": [
        "\"CELDA N°11\"\n",
        "#Calculamos la probabilidades de obtener 1 con el método predict_proba\n",
        "rf_prob = rf.predict_proba(X_test)[:,1]\n",
        "rf_prob"
      ],
      "execution_count": null,
      "outputs": [
        {
          "output_type": "execute_result",
          "data": {
            "text/plain": [
              "array([0.69465895, 0.13337178, 0.67802702, 0.50155757, 0.76835726,\n",
              "       0.14386919, 0.29446013, 0.78434366, 0.44397844, 0.51947329,\n",
              "       0.14384053, 0.4690178 , 0.34583404, 0.20163781, 0.4958344 ,\n",
              "       0.31982706, 0.29951416, 0.19535978, 0.13865481, 0.62105297,\n",
              "       0.14730453, 0.23317542, 0.74794057, 0.33379392, 0.5608061 ,\n",
              "       0.14401847, 0.74539018, 0.67221131, 0.20209061, 0.79797678,\n",
              "       0.50277966, 0.33208328, 0.34176073, 0.47715593, 0.13677452,\n",
              "       0.33570822, 0.32129416, 0.1514982 , 0.4442548 , 0.14386919,\n",
              "       0.4690178 , 0.51560113, 0.78178604, 0.31927439, 0.82129528,\n",
              "       0.14097119, 0.31228099, 0.19995084, 0.4332765 , 0.21311058,\n",
              "       0.22341113, 0.6631544 , 0.19938148, 0.20163781, 0.1408029 ,\n",
              "       0.51889774, 0.20209061, 0.31513242, 0.15492273, 0.45450747,\n",
              "       0.37210996, 0.17388628, 0.32022727, 0.31688296, 0.3949033 ,\n",
              "       0.55063424, 0.23532595, 0.19927645, 0.57059351, 0.29633703,\n",
              "       0.20904844, 0.3158416 , 0.42887044, 0.14366423, 0.67548346,\n",
              "       0.34791504, 0.78434366, 0.17017871, 0.33740859, 0.80528229,\n",
              "       0.28975039, 0.1847638 , 0.17139183, 0.14097119, 0.69832692,\n",
              "       0.1408029 , 0.13696784, 0.14680835, 0.32086188, 0.72497281,\n",
              "       0.26062474, 0.16119986, 0.17017871, 0.52767857, 0.14026714,\n",
              "       0.3327779 , 0.13458236, 0.51213219, 0.14253219, 0.13865481,\n",
              "       0.34590966, 0.19482496, 0.23245099, 0.5544425 , 0.8314971 ,\n",
              "       0.14026714, 0.14306796, 0.14440496, 0.31783923, 0.13110673,\n",
              "       0.45085203, 0.17388628, 0.20025458, 0.17448052, 0.19684451,\n",
              "       0.1424469 , 0.28104798, 0.39809014, 0.73126586, 0.45740344,\n",
              "       0.73220998, 0.41762519, 0.14253219, 0.20466286, 0.80712521,\n",
              "       0.70967634, 0.67080443, 0.46275106, 0.1847638 , 0.17017871,\n",
              "       0.14384053, 0.13337178, 0.63700084, 0.42842106])"
            ]
          },
          "metadata": {},
          "execution_count": 11
        }
      ]
    },
    {
      "cell_type": "markdown",
      "metadata": {
        "id": "kXIhV_FI4xx3"
      },
      "source": [
        "###*Importancia de variables*"
      ]
    },
    {
      "cell_type": "code",
      "metadata": {
        "id": "Q-JL2XhdnLOC",
        "colab": {
          "base_uri": "https://localhost:8080/",
          "height": 700
        },
        "outputId": "5be26f27-aefd-44a4-b1f4-a7dce2da7485"
      },
      "source": [
        "\"CELDA N°12\"\n",
        "#Graficamos la importancia de cada variable con gráfica de barras usando el método feature_importances_\n",
        "pesos = rf.feature_importances_\n",
        "cols = X_train.columns\n",
        "plt.figure(figsize=(8,12))\n",
        "indices = np.argsort(pesos)\n",
        "plt.barh(range(len(indices)), pesos[indices], align = 'center')\n",
        "plt.yticks(range(len(indices)),[cols[i] for i in indices])\n",
        "plt.show()"
      ],
      "execution_count": null,
      "outputs": [
        {
          "output_type": "display_data",
          "data": {
            "image/png": "[encoded data removed]",
            "text/plain": [
              "<Figure size 576x864 with 1 Axes>"
            ]
          },
          "metadata": {
            "needs_background": "light"
          }
        }
      ]
    },
    {
      "cell_type": "markdown",
      "metadata": {
        "id": "yhJOTHIH3tva"
      },
      "source": [
        "### *Score del Random Forest*"
      ]
    },
    {
      "cell_type": "code",
      "metadata": {
        "id": "hTfaZDrzldYm",
        "colab": {
          "base_uri": "https://localhost:8080/"
        },
        "outputId": "fedbb109-aa78-4c98-9fd0-e2247260ce0d"
      },
      "source": [
        "\"CELDA N°13\"\n",
        "#Calculamos el accuracy comparando las predicciones generadas versus y_test\n",
        "print('El accuracy para mi tercer modelo es :{0:.2f}'.format(accuracy_score(y_test,rf_pred))) #usando la expresión regex .2f para mostrar 2 decimales"
      ],
      "execution_count": null,
      "outputs": [
        {
          "output_type": "stream",
          "name": "stdout",
          "text": [
            "El accuracy para mi tercer modelo es :0.77\n"
          ]
        }
      ]
    },
    {
      "cell_type": "markdown",
      "metadata": {
        "id": "g3Z-Z6a-3-Yn"
      },
      "source": [
        "## **Matriz de Confusión**"
      ]
    },
    {
      "cell_type": "markdown",
      "metadata": {
        "id": "IhWooUeB_TKd"
      },
      "source": [
        "### *Matriz de Confusión de la Regresión Logística*"
      ]
    },
    {
      "cell_type": "code",
      "metadata": {
        "id": "hwptZQ14mkey"
      },
      "source": [
        "\"CELDA N°14\"\n",
        "!pip install -q scikit-plot #Instalamos en el presente notebook usando ! el paquete scikit-plot\n",
        "import scikitplot as skplt #Importamos la librería skplt\n",
        "skplt.metrics.plot_confusion_matrix(y_test,rl_pred, figsize=(4,4)) #Graficamos la matriz usando plot_confusion_matrix y los datos de y_test vs rl_pred"
      ],
      "execution_count": null,
      "outputs": []
    },
    {
      "cell_type": "code",
      "metadata": {
        "id": "Q4rxejb-EJai"
      },
      "source": [
        "\"CELDA N°15\"\n",
        "from sklearn.metrics import classification_report #Importamos la librería classification_report\n",
        "rl_report = classification_report(y_test, rl_pred, target_names=['0' , '1']) #Obtenemos las mátricas de la matriz por Regresión Logística\n",
        "print(rl_report)"
      ],
      "execution_count": null,
      "outputs": []
    },
    {
      "cell_type": "markdown",
      "metadata": {
        "id": "19u0lW4O_enU"
      },
      "source": [
        "### *Matriz de Confusión de Random Forest*"
      ]
    },
    {
      "cell_type": "code",
      "metadata": {
        "id": "cGOKaBmYjxEp"
      },
      "source": [
        "\"CELDA N°16\"\n",
        "skplt.metrics.plot_confusion_matrix(y_test,rf_pred, figsize=(4,4)) #Graficamos la matriz usando plot_confusion_matrix y los datos de y_test vs rf_pred"
      ],
      "execution_count": null,
      "outputs": []
    },
    {
      "cell_type": "code",
      "metadata": {
        "id": "wZ3LDr76_Lmv"
      },
      "source": [
        "\"CELDA N°17\"\n",
        "rf_report = classification_report(y_test, rf_pred, target_names=['0' , '1']) #Obtenemos las mátricas de la matriz por Random Forest\n",
        "print(rf_report)"
      ],
      "execution_count": null,
      "outputs": []
    },
    {
      "cell_type": "markdown",
      "metadata": {
        "id": "uiLtdaQF5X_p"
      },
      "source": [
        "##**Curva ROC**"
      ]
    },
    {
      "cell_type": "markdown",
      "metadata": {
        "id": "wq_KB3SZ5niC"
      },
      "source": [
        "### *Parámetros de la curva ROC*"
      ]
    },
    {
      "cell_type": "code",
      "metadata": {
        "id": "zPDm0yC0uvPY"
      },
      "source": [
        "\"CELDA N°18\"\n",
        "from sklearn.metrics import roc_curve, roc_auc_score #Importamos las librerías necesarias para dibujar las curvas ROC\n",
        "false_positive_rate1, true_positive_rate1, threshold1 = roc_curve(y_test, rl_prob) #Obtenemos las métricas de la curva ROC usando y_test vs rl_prob\n",
        "false_positive_rate2, true_positive_rate2, threshold2 = roc_curve(y_test, rf_prob) #Obtenemos las métricas de la curva ROC usando y_test vs rf_prob\n",
        "print('roc_auc_score Regresión Logística: ', roc_auc_score(y_test, rl_prob))\n",
        "print('roc_auc_score Random Forest: ', roc_auc_score(y_test, rf_prob))"
      ],
      "execution_count": null,
      "outputs": []
    },
    {
      "cell_type": "markdown",
      "metadata": {
        "id": "_KxGVepB5yfK"
      },
      "source": [
        "###*Gráfica de la curva ROC*"
      ]
    },
    {
      "cell_type": "code",
      "metadata": {
        "id": "jgVHDFYVyW2e"
      },
      "source": [
        "\"CELDA N°19\"\n",
        "#Dibujamos la curva ROC con las métricas obtenidas para Regresión Logística\n",
        "plt.subplots(1, figsize=(10,10))\n",
        "plt.title('Curva AUC - Regresión Logística')\n",
        "plt.plot(false_positive_rate1, true_positive_rate1)\n",
        "plt.plot([0, 1], ls=\"--\")\n",
        "plt.plot([0, 0], [1, 0] , c=\".7\"), plt.plot([1, 1] , c=\".7\")\n",
        "plt.ylabel('True Positive Rate')\n",
        "plt.xlabel('False Positive Rate')\n",
        "plt.show()"
      ],
      "execution_count": null,
      "outputs": []
    },
    {
      "cell_type": "code",
      "metadata": {
        "id": "yEUNWbUgAlNG"
      },
      "source": [
        "\"CELDA N°20\"\n",
        "#Dibujamos la curva ROC con las métricas obtenidas para Random Forest\n",
        "plt.subplots(1, figsize=(10,10))\n",
        "plt.title('Curva AUC - Random Forest')\n",
        "plt.plot(false_positive_rate2, true_positive_rate2)\n",
        "plt.plot([0, 1], ls=\"--\")\n",
        "plt.plot([0, 0], [1, 0] , c=\".7\"), plt.plot([1, 1] , c=\".7\")\n",
        "plt.ylabel('True Positive Rate')\n",
        "plt.xlabel('False Positive Rate')\n",
        "plt.show()"
      ],
      "execution_count": null,
      "outputs": []
    },
    {
      "cell_type": "markdown",
      "metadata": {
        "id": "jkaXEVTWRZA2"
      },
      "source": [
        "##**BONUS: Summit de las predicciones para la competencia Kaggle**"
      ]
    },
    {
      "cell_type": "code",
      "metadata": {
        "id": "LM_IC0jEH7lW"
      },
      "source": [
        "#Comprobar que el número de columnas (variables predictoras) de summit y X_test coincidan\n",
        "summit.shape, X_test.shape"
      ],
      "execution_count": null,
      "outputs": []
    },
    {
      "cell_type": "code",
      "metadata": {
        "id": "NOTDOcYMHtnu"
      },
      "source": [
        "#Generar las predicciones a partir del mejor modelo (0=No sobrevivió, 1=Sí sobrevivió)\n",
        "summit_pred = rl.predict(summit)"
      ],
      "execution_count": null,
      "outputs": []
    },
    {
      "cell_type": "code",
      "metadata": {
        "id": "vZWw_rmyJEen"
      },
      "source": [
        "#Extraer los Id de los pasajeros del archivo titanic_summit\n",
        "titanic_summit = pd.read_csv('https://raw.githubusercontent.com/HackSpacePeru/Datasets_intro_Data_Science/master/Titanic/gender_submission.csv')\n",
        "summit_id = titanic_summit['PassengerId']"
      ],
      "execution_count": null,
      "outputs": []
    },
    {
      "cell_type": "code",
      "metadata": {
        "id": "Fe-RjIc7KQbb"
      },
      "source": [
        "#Comprobar que el tamaño de las predicciones y summmit_id coincidan para unir ambos dataset sin errores\n",
        "summit_pred.shape, summit_id.shape"
      ],
      "execution_count": null,
      "outputs": []
    },
    {
      "cell_type": "code",
      "metadata": {
        "id": "_alldSJnKaJb"
      },
      "source": [
        "#Crear un diccionario para guardar ambos dataset y crear un nuevo dataframe llamado respuestas para unir ambos dataset\n",
        "summit_dict = {'PassengerId':summit_id,'Survived':summit_pred}\n",
        "respuestas = pd.DataFrame(summit_dict)"
      ],
      "execution_count": null,
      "outputs": []
    },
    {
      "cell_type": "code",
      "metadata": {
        "id": "lyeWdBPuSoNI"
      },
      "source": [
        "#Generar un archivo csv con tu nombre y no olvidar la extensión csv\n",
        "respuestas.to_csv('tu_nombre.csv',index=False)"
      ],
      "execution_count": null,
      "outputs": []
    }
  ]
}